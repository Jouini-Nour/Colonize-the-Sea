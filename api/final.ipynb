{
  "cells": [
    {
      "cell_type": "code",
      "execution_count": 84,
      "metadata": {
        "colab": {
          "base_uri": "https://localhost:8080/"
        },
        "id": "xx6Vct8zvSdR",
        "outputId": "8da01973-72b3-4782-ef30-4d576b685271"
      },
      "outputs": [
        {
          "name": "stdout",
          "output_type": "stream",
          "text": [
            "Nearest datapoint (JSON):\n",
            "{\"x\":-26.7024218205,\"y\":20.3243833032,\"distance_from_land\":3,\"depth\":147.7142857143,\"u\":94.5,\"v\":189.7142857143,\"result\":0,\"distance\":11.6638723573,\"comment\":\"We can have a city of 10k person and 5km radius\"}\n"
          ]
        }
      ],
      "source": [
        "import pandas as pd\n",
        "import json\n",
        "\n",
        "df = pd.read_csv('final_data.csv')\n",
        "\n",
        "def find_nearest_datapoint(x, y, df):\n",
        "  \"\"\"\n",
        "  Finds the datapoint in the DataFrame that is closest to the given (x, y) coordinates.\n",
        "\n",
        "  Args:\n",
        "    x: The x-coordinate.\n",
        "    y: The y-coordinate.\n",
        "    df: The pandas DataFrame containing the data.\n",
        "\n",
        "  Returns:\n",
        "    A JSON string representing the nearest datapoint, or None if the DataFrame is empty.\n",
        "  \"\"\"\n",
        "  if df.empty:\n",
        "    return None\n",
        "\n",
        "  df['distance'] = ((df['u'] - x)**2 + (df['v'] - y)**2)**0.5\n",
        "  nearest_row = df.loc[df['distance'].idxmin()]\n",
        "  return nearest_row.to_json()\n",
        "\n",
        "\n",
        "# Example usage:\n",
        "x_input = 100  # Replace with your input x value\n",
        "y_input = 200  # Replace with your input y value\n",
        "\n",
        "nearest_datapoint_json = find_nearest_datapoint(x_input, y_input, df)\n",
        "\n",
        "if nearest_datapoint_json is not None:\n",
        "  print(\"Nearest datapoint (JSON):\")\n",
        "  print(nearest_datapoint_json)\n",
        "else:\n",
        "  print(\"DataFrame is empty.\")\n",
        "\n",
        "\n",
        "# To save the JSON to a file, uncomment the following line:\n",
        "# with open('nearest_datapoint.json', 'w') as f:{\"x\":-26.7024218205,\"y\":20.3243833032,\"distance_from_land\":3,\"depth\":147.7142857143,\"u\":94.5,\"v\":189.7142857143,\"result\":0,\"distance\":11.6638723573,\"comment\":\"We can have a city of 10k person and 5km radius\"}\n",
        "\n",
        "#   json.dump(json.loads(nearest_datapoint_json), f)\n"
      ]
    }
  ],
  "metadata": {
    "colab": {
      "provenance": []
    },
    "kernelspec": {
      "display_name": "Python 3",
      "name": "python3"
    },
    "language_info": {
      "name": "python"
    }
  },
  "nbformat": 4,
  "nbformat_minor": 0
}
